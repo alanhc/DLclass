{
  "nbformat": 4,
  "nbformat_minor": 0,
  "metadata": {
    "colab": {
      "name": "week2.ipynb",
      "provenance": [],
      "collapsed_sections": []
    },
    "kernelspec": {
      "name": "python3",
      "display_name": "Python 3"
    },
    "accelerator": "GPU"
  },
  "cells": [
    {
      "cell_type": "markdown",
      "metadata": {
        "id": "wiwYDI1uCALl",
        "colab_type": "text"
      },
      "source": [
        "![](https://i.imgur.com/Cm0u08v.png)"
      ]
    },
    {
      "cell_type": "code",
      "metadata": {
        "id": "Akj_yq0zTUza",
        "colab_type": "code",
        "outputId": "7c93b4c9-518b-46a6-f798-62286683359f",
        "colab": {
          "base_uri": "https://localhost:8080/",
          "height": 81
        }
      },
      "source": [
        "from keras.models import Sequential\n",
        "from keras.layers import Dense, Activation"
      ],
      "execution_count": 0,
      "outputs": [
        {
          "output_type": "stream",
          "text": [
            "Using TensorFlow backend.\n"
          ],
          "name": "stderr"
        },
        {
          "output_type": "display_data",
          "data": {
            "text/html": [
              "<p style=\"color: red;\">\n",
              "The default version of TensorFlow in Colab will soon switch to TensorFlow 2.x.<br>\n",
              "We recommend you <a href=\"https://www.tensorflow.org/guide/migrate\" target=\"_blank\">upgrade</a> now \n",
              "or ensure your notebook will continue to use TensorFlow 1.x via the <code>%tensorflow_version 1.x</code> magic:\n",
              "<a href=\"https://colab.research.google.com/notebooks/tensorflow_version.ipynb\" target=\"_blank\">more info</a>.</p>\n"
            ],
            "text/plain": [
              "<IPython.core.display.HTML object>"
            ]
          },
          "metadata": {
            "tags": []
          }
        }
      ]
    },
    {
      "cell_type": "markdown",
      "metadata": {
        "id": "uGEdTUVlWx-F",
        "colab_type": "text"
      },
      "source": [
        "# 定義模型\n"
      ]
    },
    {
      "cell_type": "code",
      "metadata": {
        "id": "yXt3CwyLU1zO",
        "colab_type": "code",
        "colab": {}
      },
      "source": [
        "model2 = Sequential([\n",
        "  Dense(32, input_shape=(784,)),\n",
        "  Activation('relu'),\n",
        "  Dense(10),\n",
        "  Activation('softmax'),\n",
        "])"
      ],
      "execution_count": 0,
      "outputs": []
    },
    {
      "cell_type": "code",
      "metadata": {
        "id": "yLiJo3SuWMCj",
        "colab_type": "code",
        "colab": {}
      },
      "source": [
        "model2 = Sequential()\n",
        "model2.add(Dense(500, input_dim=784))\n",
        "model2.add(Activation('relu')) \n",
        "model2.add(Dense(300))\n",
        "model2.add(Activation('softmax'))"
      ],
      "execution_count": 0,
      "outputs": []
    },
    {
      "cell_type": "code",
      "metadata": {
        "id": "AUDi5oBFWo8W",
        "colab_type": "code",
        "colab": {}
      },
      "source": [
        "# compile模型\n",
        "model2.compile(optimizer='rmsprop', loss='categorical_crossentropy', metrics=['accuracy'])"
      ],
      "execution_count": 0,
      "outputs": []
    },
    {
      "cell_type": "code",
      "metadata": {
        "id": "4CEeSdnLdzzt",
        "colab_type": "code",
        "outputId": "ed958f0c-16b4-4d72-d768-4d2c7a6e179c",
        "colab": {
          "base_uri": "https://localhost:8080/",
          "height": 52
        }
      },
      "source": [
        "from keras.datasets import mnist\n",
        "from keras.utils import np_utils\n",
        "import numpy as np\n",
        "def load_data():\n",
        "    print ('Loading data...')\n",
        "    (X_train, y_train), (X_test, y_test) = mnist.load_data()\n",
        "\n",
        "    X_train = X_train.astype('float32')\n",
        "    X_test = X_test.astype('float32')\n",
        "\n",
        "    X_train /= 255\n",
        "    X_test /= 255\n",
        "\n",
        "    y_train = np_utils.to_categorical(y_train, 10)\n",
        "    y_test = np_utils.to_categorical(y_test, 10)\n",
        "\n",
        "    X_train = np.reshape(X_train, (60000, 784))\n",
        "    X_test = np.reshape(X_test, (10000, 784))\n",
        "\n",
        "    print ('Data loaded.')\n",
        "    return [X_train, X_test, y_train, y_test]\n",
        "X_train, X_test, y_train, y_test = load_data()\n"
      ],
      "execution_count": 0,
      "outputs": [
        {
          "output_type": "stream",
          "text": [
            "Loading data...\n",
            "Data loaded.\n"
          ],
          "name": "stdout"
        }
      ]
    },
    {
      "cell_type": "code",
      "metadata": {
        "id": "Mw7ecByKe7DQ",
        "colab_type": "code",
        "outputId": "b7ea3ffa-afd1-464c-e914-21c20fd29ada",
        "colab": {
          "base_uri": "https://localhost:8080/",
          "height": 404
        }
      },
      "source": [
        "import keras.callbacks as cb\n",
        "class LossHistory(cb.Callback):\n",
        "    def on_train_begin(self, logs={}):\n",
        "        self.losses = []\n",
        "\n",
        "    def on_batch_end(self, batch, logs={}):\n",
        "        batch_loss = logs.get('loss')\n",
        "        self.losses.append(batch_loss)\n",
        "\n",
        "\n",
        "epochs=10\n",
        "batch=32\n",
        "history = LossHistory()\n",
        "model.fit(X_train, y_train, epochs=epochs, batch_size=batch,\n",
        "                    callbacks=[history],\n",
        "                    validation_data=(X_test, y_test), verbose=2)"
      ],
      "execution_count": 0,
      "outputs": [
        {
          "output_type": "stream",
          "text": [
            "Train on 60000 samples, validate on 10000 samples\n",
            "Epoch 1/10\n",
            " - 7s - loss: 1.8471e-04 - acc: 0.9999 - val_loss: 0.1306 - val_acc: 0.9820\n",
            "Epoch 2/10\n",
            " - 7s - loss: 6.8646e-04 - acc: 0.9997 - val_loss: 0.1319 - val_acc: 0.9821\n",
            "Epoch 3/10\n",
            " - 7s - loss: 6.5233e-04 - acc: 0.9998 - val_loss: 0.1336 - val_acc: 0.9820\n",
            "Epoch 4/10\n",
            " - 7s - loss: 4.1664e-04 - acc: 0.9999 - val_loss: 0.1314 - val_acc: 0.9821\n",
            "Epoch 5/10\n",
            " - 7s - loss: 5.6306e-04 - acc: 0.9998 - val_loss: 0.1341 - val_acc: 0.9809\n",
            "Epoch 6/10\n",
            " - 7s - loss: 2.6880e-04 - acc: 0.9999 - val_loss: 0.1433 - val_acc: 0.9824\n",
            "Epoch 7/10\n",
            " - 7s - loss: 2.5914e-04 - acc: 0.9999 - val_loss: 0.1584 - val_acc: 0.9812\n",
            "Epoch 8/10\n",
            " - 7s - loss: 2.1159e-04 - acc: 1.0000 - val_loss: 0.1420 - val_acc: 0.9825\n",
            "Epoch 9/10\n",
            " - 7s - loss: 2.7246e-04 - acc: 0.9999 - val_loss: 0.1477 - val_acc: 0.9814\n",
            "Epoch 10/10\n",
            " - 7s - loss: 9.4206e-05 - acc: 0.9999 - val_loss: 0.1400 - val_acc: 0.9829\n"
          ],
          "name": "stdout"
        },
        {
          "output_type": "execute_result",
          "data": {
            "text/plain": [
              "<keras.callbacks.History at 0x7f888c21b470>"
            ]
          },
          "metadata": {
            "tags": []
          },
          "execution_count": 17
        }
      ]
    },
    {
      "cell_type": "code",
      "metadata": {
        "id": "3BB-yO_2cexg",
        "colab_type": "code",
        "outputId": "ef01415a-8335-4259-87b6-7621d0b22c68",
        "colab": {
          "base_uri": "https://localhost:8080/",
          "height": 349
        }
      },
      "source": [
        "# 模型訓練\n",
        "model.fit(X_train, y_train, epoch=epochs, batch_size=batch,\n",
        "                  callbacks=[history], # 畫圖\n",
        "                  validation_data=(X_test, y_test), verbose=2)"
      ],
      "execution_count": 0,
      "outputs": [
        {
          "output_type": "error",
          "ename": "TypeError",
          "evalue": "ignored",
          "traceback": [
            "\u001b[0;31m---------------------------------------------------------------------------\u001b[0m",
            "\u001b[0;31mTypeError\u001b[0m                                 Traceback (most recent call last)",
            "\u001b[0;32m<ipython-input-18-1ccb275f24b7>\u001b[0m in \u001b[0;36m<module>\u001b[0;34m()\u001b[0m\n\u001b[1;32m      1\u001b[0m model.fit(X_train, y_train, epoch=epochs, batch_size=batch,\n\u001b[1;32m      2\u001b[0m                   \u001b[0mcallbacks\u001b[0m\u001b[0;34m=\u001b[0m\u001b[0;34m[\u001b[0m\u001b[0mhistory\u001b[0m\u001b[0;34m]\u001b[0m\u001b[0;34m,\u001b[0m \u001b[0;31m# 畫圖\u001b[0m\u001b[0;34m\u001b[0m\u001b[0;34m\u001b[0m\u001b[0m\n\u001b[0;32m----> 3\u001b[0;31m                   validation_data=(X_test, y_test), verbose=2)\n\u001b[0m",
            "\u001b[0;32m/usr/local/lib/python3.6/dist-packages/keras/engine/training.py\u001b[0m in \u001b[0;36mfit\u001b[0;34m(self, x, y, batch_size, epochs, verbose, callbacks, validation_split, validation_data, shuffle, class_weight, sample_weight, initial_epoch, steps_per_epoch, validation_steps, validation_freq, max_queue_size, workers, use_multiprocessing, **kwargs)\u001b[0m\n\u001b[1;32m   1051\u001b[0m             \u001b[0mepochs\u001b[0m \u001b[0;34m=\u001b[0m \u001b[0mkwargs\u001b[0m\u001b[0;34m.\u001b[0m\u001b[0mpop\u001b[0m\u001b[0;34m(\u001b[0m\u001b[0;34m'nb_epoch'\u001b[0m\u001b[0;34m)\u001b[0m\u001b[0;34m\u001b[0m\u001b[0;34m\u001b[0m\u001b[0m\n\u001b[1;32m   1052\u001b[0m         \u001b[0;32mif\u001b[0m \u001b[0mkwargs\u001b[0m\u001b[0;34m:\u001b[0m\u001b[0;34m\u001b[0m\u001b[0;34m\u001b[0m\u001b[0m\n\u001b[0;32m-> 1053\u001b[0;31m             \u001b[0;32mraise\u001b[0m \u001b[0mTypeError\u001b[0m\u001b[0;34m(\u001b[0m\u001b[0;34m'Unrecognized keyword arguments: '\u001b[0m \u001b[0;34m+\u001b[0m \u001b[0mstr\u001b[0m\u001b[0;34m(\u001b[0m\u001b[0mkwargs\u001b[0m\u001b[0;34m)\u001b[0m\u001b[0;34m)\u001b[0m\u001b[0;34m\u001b[0m\u001b[0;34m\u001b[0m\u001b[0m\n\u001b[0m\u001b[1;32m   1054\u001b[0m \u001b[0;34m\u001b[0m\u001b[0m\n\u001b[1;32m   1055\u001b[0m         \u001b[0;32mif\u001b[0m \u001b[0mx\u001b[0m \u001b[0;32mis\u001b[0m \u001b[0;32mNone\u001b[0m \u001b[0;32mand\u001b[0m \u001b[0my\u001b[0m \u001b[0;32mis\u001b[0m \u001b[0;32mNone\u001b[0m \u001b[0;32mand\u001b[0m \u001b[0msteps_per_epoch\u001b[0m \u001b[0;32mis\u001b[0m \u001b[0;32mNone\u001b[0m\u001b[0;34m:\u001b[0m\u001b[0;34m\u001b[0m\u001b[0;34m\u001b[0m\u001b[0m\n",
            "\u001b[0;31mTypeError\u001b[0m: Unrecognized keyword arguments: {'epoch': 10}"
          ]
        }
      ]
    },
    {
      "cell_type": "markdown",
      "metadata": {
        "id": "JyHBd671hHMe",
        "colab_type": "text"
      },
      "source": [
        "# 寫成 class 的 code"
      ]
    },
    {
      "cell_type": "code",
      "metadata": {
        "id": "F3pUexqhWJeS",
        "colab_type": "code",
        "outputId": "20205bfa-1545-433b-b870-05c10d072748",
        "colab": {
          "base_uri": "https://localhost:8080/",
          "height": 1000
        }
      },
      "source": [
        "import time\n",
        "import numpy as np\n",
        "from matplotlib import pyplot as plt\n",
        "from keras.utils import np_utils\n",
        "import keras.callbacks as cb\n",
        "from keras.models import Sequential\n",
        "from keras.layers.core import Dense, Dropout, Activation\n",
        "from keras.optimizers import RMSprop\n",
        "from keras.datasets import mnist\n",
        "\n",
        "\n",
        "class LossHistory(cb.Callback):\n",
        "    def on_train_begin(self, logs={}):\n",
        "        self.losses = []\n",
        "\n",
        "    def on_batch_end(self, batch, logs={}):\n",
        "        batch_loss = logs.get('loss')\n",
        "        self.losses.append(batch_loss)\n",
        "\n",
        "\n",
        "def load_data():\n",
        "    print ('Loading data...')\n",
        "    (X_train, y_train), (X_test, y_test) = mnist.load_data()\n",
        "\n",
        "    X_train = X_train.astype('float32')\n",
        "    X_test = X_test.astype('float32')\n",
        "\n",
        "    X_train /= 255\n",
        "    X_test /= 255\n",
        "\n",
        "    y_train = np_utils.to_categorical(y_train, 10)\n",
        "    y_test = np_utils.to_categorical(y_test, 10)\n",
        "\n",
        "    X_train = np.reshape(X_train, (60000, 784))\n",
        "    X_test = np.reshape(X_test, (10000, 784))\n",
        "\n",
        "    print ('Data loaded.')\n",
        "    return [X_train, X_test, y_train, y_test]\n",
        "\n",
        "\n",
        "def init_model():\n",
        "    start_time = time.time()\n",
        "    print ('Compiling Model ... ')\n",
        "    model = Sequential()\n",
        "    model.add(Dense(500, input_dim=784)) \n",
        "    model.add(Activation('relu'))\n",
        "\n",
        "    model.add(Dense(10))\n",
        "    model.add(Activation('softmax'))\n",
        "    \n",
        "    rms = RMSprop()\n",
        "    model.compile(loss='categorical_crossentropy', optimizer=rms, metrics=['accuracy'])\n",
        "    print ('Model compield in {0} seconds'.format(time.time() - start_time))\n",
        "    return model\n",
        "\n",
        "\n",
        "def run_network(data=None, model=None, epochs=20, batch=256):\n",
        "    try:\n",
        "        start_time = time.time()\n",
        "        if data is None:\n",
        "            X_train, X_test, y_train, y_test = load_data()\n",
        "        else:\n",
        "            X_train, X_test, y_train, y_test = data\n",
        "\n",
        "        if model is None:\n",
        "            model = init_model()\n",
        "\n",
        "        history = LossHistory()\n",
        "\n",
        "        print ('Training model...')\n",
        "        model.fit(X_train, y_train, epochs=epochs, batch_size=batch,\n",
        "                    callbacks=[history],\n",
        "                    validation_data=(X_test, y_test), verbose=2)\n",
        "\n",
        "        print (\"Training duration : {0}\".format(time.time() - start_time))\n",
        "        score = model.evaluate(X_test, y_test, batch_size=16)\n",
        "\n",
        "        print (\"Network's test score [loss, accuracy]: {0}\".format(score))\n",
        "        return model, history.losses\n",
        "    except KeyboardInterrupt:\n",
        "        print (' KeyboardInterrupt')\n",
        "        return model, history.losses\n",
        "\n",
        "\n",
        "def plot_losses(losses):\n",
        "    fig = plt.figure()\n",
        "    ax = fig.add_subplot(111)\n",
        "    ax.plot(losses)\n",
        "    ax.set_title('Loss per batch')\n",
        "    fig.show()\n",
        "\n",
        "model, losses = run_network(epochs=50, batch=256)\n",
        "plot_losses(losses)\n"
      ],
      "execution_count": 0,
      "outputs": [
        {
          "output_type": "stream",
          "text": [
            "Loading data...\n",
            "Data loaded.\n",
            "Compiling Model ... \n",
            "Model compield in 0.06328582763671875 seconds\n",
            "Training model...\n",
            "WARNING:tensorflow:From /tensorflow-1.15.0/python3.6/tensorflow_core/python/ops/math_grad.py:1424: where (from tensorflow.python.ops.array_ops) is deprecated and will be removed in a future version.\n",
            "Instructions for updating:\n",
            "Use tf.where in 2.0, which has the same broadcast rule as np.where\n",
            "WARNING:tensorflow:From /usr/local/lib/python3.6/dist-packages/keras/backend/tensorflow_backend.py:1033: The name tf.assign_add is deprecated. Please use tf.compat.v1.assign_add instead.\n",
            "\n",
            "WARNING:tensorflow:From /usr/local/lib/python3.6/dist-packages/keras/backend/tensorflow_backend.py:1020: The name tf.assign is deprecated. Please use tf.compat.v1.assign instead.\n",
            "\n",
            "WARNING:tensorflow:From /usr/local/lib/python3.6/dist-packages/keras/backend/tensorflow_backend.py:3005: The name tf.Session is deprecated. Please use tf.compat.v1.Session instead.\n",
            "\n",
            "Train on 60000 samples, validate on 10000 samples\n",
            "Epoch 1/50\n",
            "WARNING:tensorflow:From /usr/local/lib/python3.6/dist-packages/keras/backend/tensorflow_backend.py:190: The name tf.get_default_session is deprecated. Please use tf.compat.v1.get_default_session instead.\n",
            "\n",
            "WARNING:tensorflow:From /usr/local/lib/python3.6/dist-packages/keras/backend/tensorflow_backend.py:197: The name tf.ConfigProto is deprecated. Please use tf.compat.v1.ConfigProto instead.\n",
            "\n",
            "WARNING:tensorflow:From /usr/local/lib/python3.6/dist-packages/keras/backend/tensorflow_backend.py:207: The name tf.global_variables is deprecated. Please use tf.compat.v1.global_variables instead.\n",
            "\n",
            "WARNING:tensorflow:From /usr/local/lib/python3.6/dist-packages/keras/backend/tensorflow_backend.py:216: The name tf.is_variable_initialized is deprecated. Please use tf.compat.v1.is_variable_initialized instead.\n",
            "\n",
            "WARNING:tensorflow:From /usr/local/lib/python3.6/dist-packages/keras/backend/tensorflow_backend.py:223: The name tf.variables_initializer is deprecated. Please use tf.compat.v1.variables_initializer instead.\n",
            "\n",
            " - 9s - loss: 0.3079 - acc: 0.9116 - val_loss: 0.1617 - val_acc: 0.9509\n",
            "Epoch 2/50\n",
            " - 1s - loss: 0.1309 - acc: 0.9613 - val_loss: 0.1065 - val_acc: 0.9687\n",
            "Epoch 3/50\n",
            " - 1s - loss: 0.0869 - acc: 0.9746 - val_loss: 0.0966 - val_acc: 0.9706\n",
            "Epoch 4/50\n",
            " - 1s - loss: 0.0631 - acc: 0.9814 - val_loss: 0.0821 - val_acc: 0.9743\n",
            "Epoch 5/50\n",
            " - 1s - loss: 0.0485 - acc: 0.9855 - val_loss: 0.0661 - val_acc: 0.9791\n",
            "Epoch 6/50\n",
            " - 1s - loss: 0.0373 - acc: 0.9891 - val_loss: 0.0692 - val_acc: 0.9797\n",
            "Epoch 7/50\n",
            " - 1s - loss: 0.0295 - acc: 0.9914 - val_loss: 0.0632 - val_acc: 0.9807\n",
            "Epoch 8/50\n",
            " - 1s - loss: 0.0231 - acc: 0.9935 - val_loss: 0.0744 - val_acc: 0.9784\n",
            "Epoch 9/50\n",
            " - 1s - loss: 0.0186 - acc: 0.9948 - val_loss: 0.0636 - val_acc: 0.9808\n",
            "Epoch 10/50\n",
            " - 1s - loss: 0.0145 - acc: 0.9961 - val_loss: 0.0628 - val_acc: 0.9818\n",
            "Epoch 11/50\n",
            " - 1s - loss: 0.0117 - acc: 0.9969 - val_loss: 0.0671 - val_acc: 0.9798\n",
            "Epoch 12/50\n",
            " - 1s - loss: 0.0090 - acc: 0.9980 - val_loss: 0.0675 - val_acc: 0.9809\n",
            "Epoch 13/50\n",
            " - 1s - loss: 0.0069 - acc: 0.9985 - val_loss: 0.0641 - val_acc: 0.9820\n",
            "Epoch 14/50\n",
            " - 1s - loss: 0.0057 - acc: 0.9988 - val_loss: 0.0699 - val_acc: 0.9820\n",
            "Epoch 15/50\n",
            " - 1s - loss: 0.0043 - acc: 0.9990 - val_loss: 0.0739 - val_acc: 0.9825\n",
            "Epoch 16/50\n",
            " - 1s - loss: 0.0031 - acc: 0.9995 - val_loss: 0.0807 - val_acc: 0.9809\n",
            "Epoch 17/50\n",
            " - 1s - loss: 0.0027 - acc: 0.9994 - val_loss: 0.0864 - val_acc: 0.9791\n",
            "Epoch 18/50\n",
            " - 1s - loss: 0.0021 - acc: 0.9996 - val_loss: 0.0807 - val_acc: 0.9811\n",
            "Epoch 19/50\n",
            " - 1s - loss: 0.0017 - acc: 0.9996 - val_loss: 0.0852 - val_acc: 0.9821\n",
            "Epoch 20/50\n",
            " - 1s - loss: 0.0014 - acc: 0.9998 - val_loss: 0.0811 - val_acc: 0.9822\n",
            "Epoch 21/50\n",
            " - 1s - loss: 9.8982e-04 - acc: 0.9998 - val_loss: 0.0911 - val_acc: 0.9813\n",
            "Epoch 22/50\n",
            " - 1s - loss: 8.8825e-04 - acc: 0.9999 - val_loss: 0.0823 - val_acc: 0.9828\n",
            "Epoch 23/50\n",
            " - 1s - loss: 8.7157e-04 - acc: 0.9997 - val_loss: 0.0835 - val_acc: 0.9833\n",
            "Epoch 24/50\n",
            " - 1s - loss: 6.8970e-04 - acc: 0.9998 - val_loss: 0.0875 - val_acc: 0.9829\n",
            "Epoch 25/50\n",
            " - 1s - loss: 5.3502e-04 - acc: 0.9998 - val_loss: 0.0832 - val_acc: 0.9831\n",
            "Epoch 26/50\n",
            " - 1s - loss: 3.8556e-04 - acc: 0.9999 - val_loss: 0.0898 - val_acc: 0.9829\n",
            "Epoch 27/50\n",
            " - 1s - loss: 2.9280e-04 - acc: 1.0000 - val_loss: 0.0901 - val_acc: 0.9830\n",
            "Epoch 28/50\n",
            " - 1s - loss: 2.3674e-04 - acc: 1.0000 - val_loss: 0.0904 - val_acc: 0.9825\n",
            "Epoch 29/50\n",
            " - 1s - loss: 2.9932e-04 - acc: 0.9999 - val_loss: 0.0923 - val_acc: 0.9820\n",
            "Epoch 30/50\n",
            " - 1s - loss: 3.6964e-04 - acc: 0.9999 - val_loss: 0.0948 - val_acc: 0.9830\n",
            "Epoch 31/50\n",
            " - 1s - loss: 1.3407e-04 - acc: 1.0000 - val_loss: 0.0991 - val_acc: 0.9830\n",
            "Epoch 32/50\n",
            " - 1s - loss: 1.3552e-04 - acc: 1.0000 - val_loss: 0.1036 - val_acc: 0.9823\n",
            "Epoch 33/50\n",
            " - 1s - loss: 1.0325e-04 - acc: 1.0000 - val_loss: 0.1068 - val_acc: 0.9818\n",
            "Epoch 34/50\n",
            " - 1s - loss: 7.6227e-05 - acc: 1.0000 - val_loss: 0.1032 - val_acc: 0.9836\n",
            "Epoch 35/50\n",
            " - 1s - loss: 4.5438e-05 - acc: 1.0000 - val_loss: 0.1040 - val_acc: 0.9829\n",
            "Epoch 36/50\n",
            " - 1s - loss: 3.7964e-05 - acc: 1.0000 - val_loss: 0.1031 - val_acc: 0.9834\n",
            "Epoch 37/50\n",
            " - 1s - loss: 8.6167e-05 - acc: 1.0000 - val_loss: 0.1142 - val_acc: 0.9816\n",
            "Epoch 38/50\n",
            " - 1s - loss: 4.9057e-05 - acc: 1.0000 - val_loss: 0.1110 - val_acc: 0.9820\n",
            "Epoch 39/50\n",
            " - 1s - loss: 9.8079e-05 - acc: 1.0000 - val_loss: 0.1092 - val_acc: 0.9830\n",
            "Epoch 40/50\n",
            " - 1s - loss: 4.6990e-05 - acc: 1.0000 - val_loss: 0.1146 - val_acc: 0.9829\n",
            "Epoch 41/50\n",
            " - 1s - loss: 2.3644e-05 - acc: 1.0000 - val_loss: 0.1106 - val_acc: 0.9828\n",
            "Epoch 42/50\n",
            " - 1s - loss: 6.2173e-05 - acc: 1.0000 - val_loss: 0.1186 - val_acc: 0.9816\n",
            "Epoch 43/50\n",
            " - 1s - loss: 5.5645e-05 - acc: 1.0000 - val_loss: 0.1123 - val_acc: 0.9818\n",
            "Epoch 44/50\n",
            " - 1s - loss: 5.7754e-06 - acc: 1.0000 - val_loss: 0.1130 - val_acc: 0.9830\n",
            "Epoch 45/50\n",
            " - 1s - loss: 1.4329e-05 - acc: 1.0000 - val_loss: 0.1110 - val_acc: 0.9815\n",
            "Epoch 46/50\n",
            " - 1s - loss: 4.0650e-06 - acc: 1.0000 - val_loss: 0.1161 - val_acc: 0.9824\n",
            "Epoch 47/50\n",
            " - 1s - loss: 3.8531e-05 - acc: 1.0000 - val_loss: 0.1124 - val_acc: 0.9837\n",
            "Epoch 48/50\n",
            " - 1s - loss: 2.9828e-06 - acc: 1.0000 - val_loss: 0.1128 - val_acc: 0.9838\n",
            "Epoch 49/50\n",
            " - 1s - loss: 2.8271e-07 - acc: 1.0000 - val_loss: 0.1128 - val_acc: 0.9835\n",
            "Epoch 50/50\n",
            " - 1s - loss: 2.4146e-07 - acc: 1.0000 - val_loss: 0.1140 - val_acc: 0.9834\n",
            "Training duration : 60.40389394760132\n",
            "10000/10000 [==============================] - 1s 95us/step\n",
            "Network's test score [loss, accuracy]: [0.11396803218169647, 0.9834]\n"
          ],
          "name": "stdout"
        },
        {
          "output_type": "display_data",
          "data": {
            "image/png": "[encoded data removed]",
            "text/plain": [
              "<Figure size 432x288 with 1 Axes>"
            ]
          },
          "metadata": {
            "tags": []
          }
        }
      ]
    }
  ]
}