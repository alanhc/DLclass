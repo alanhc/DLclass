{
  "nbformat": 4,
  "nbformat_minor": 0,
  "metadata": {
    "colab": {
      "name": "answer.ipynb",
      "provenance": [],
      "collapsed_sections": [],
      "toc_visible": true
    },
    "kernelspec": {
      "name": "python3",
      "display_name": "Python 3"
    },
    "accelerator": "GPU"
  },
  "cells": [
    {
      "cell_type": "code",
      "metadata": {
        "id": "9dczLhfuVBk1",
        "colab_type": "code",
        "outputId": "f951a71a-eb5d-4b77-ae90-147a74c98064",
        "colab": {
          "base_uri": "https://localhost:8080/",
          "height": 52
        }
      },
      "source": [
        "%tensorflow_version 1.x\n",
        "import tensorflow\n",
        "print(tensorflow.__version__)"
      ],
      "execution_count": 0,
      "outputs": [
        {
          "output_type": "stream",
          "text": [
            "TensorFlow 1.x selected.\n",
            "1.15.2\n"
          ],
          "name": "stdout"
        }
      ]
    },
    {
      "cell_type": "markdown",
      "metadata": {
        "id": "9pkR4JQGhRE1",
        "colab_type": "text"
      },
      "source": [
        "Update the pcn.py using Keras MLP model, and do the following tasks:\n",
        "1.1 Demonstrate your Pima Results Here (Cycles, Accuracy)\n",
        "1.2 Compare the batch training and sequential (single-instance) training.\n"
      ]
    },
    {
      "cell_type": "code",
      "metadata": {
        "id": "PDC2YkZWfOWM",
        "colab_type": "code",
        "outputId": "016627aa-cbc8-4bd9-b6c2-38625853fd61",
        "colab": {
          "base_uri": "https://localhost:8080/",
          "height": 34
        }
      },
      "source": [
        "# updating using keras\n",
        "from keras.models import Sequential\n",
        "from keras.layers.core import Dense, Dropout, Activation\n",
        "from keras.utils import np_utils"
      ],
      "execution_count": 0,
      "outputs": [
        {
          "output_type": "stream",
          "text": [
            "Using TensorFlow backend.\n"
          ],
          "name": "stderr"
        }
      ]
    },
    {
      "cell_type": "code",
      "metadata": {
        "id": "ktdRpUSQi9Tu",
        "colab_type": "code",
        "colab": {}
      },
      "source": [
        "import keras.callbacks as cb\n",
        "class LossHistory(cb.Callback):\n",
        "    def on_train_begin(self, logs={}):\n",
        "        self.losses = []\n",
        "\n",
        "    def on_batch_end(self, batch, logs={}):\n",
        "        batch_loss = logs.get('loss')\n",
        "        self.losses.append(batch_loss)\n",
        "\n",
        "def plot_losses(history):\n",
        "    plt.figure(1, figsize=(10,10)) \n",
        "    plt.subplot(211)   # 2 by 1 array of subplots, and draw the first one \n",
        "    plt.plot(history['loss'])   \n",
        "    plt.title('model loss')  \n",
        "    plt.ylabel('loss')  \n",
        "    plt.xlabel('epoch')  \n",
        "    plt.legend(['train'], loc='upper right')  \n",
        "\t\n",
        "    plt.subplot(212)   # 2 by 1 array of subplots, and draw the second one \n",
        "    plt.plot(history['acc'])  \n",
        "    plt.title('model accuracy')  \n",
        "    plt.ylabel('acc')  \n",
        "    plt.xlabel('epoch')  \n",
        "    plt.legend(['train'], loc='lower right')  \n",
        "\t\n",
        "    plt.show()   \n",
        "\n",
        "class Solution():\n",
        "  def __init__(self,X_train,y_train, X_test, y_test):\n",
        "    #shape = y_train.shape\n",
        "    #(self.rows,self.c) = shape\n",
        "    #y_train = np_utils.to_categorical(y_train, self.rows)\n",
        "\n",
        "    self.X_train = X_train\n",
        "    self.y_train = y_train\n",
        "    self.X_test = X_test\n",
        "    self.y_test = y_test\n",
        "    #print('X_train:\\n',self.X_train) #debug\n",
        "    print('train X shape',self.X_train.shape) #debug\n",
        "    #print('Y_train:\\n',self.y_train) #debug\n",
        "    print('train Y shape',self.y_train.shape) #debug\n",
        "\n",
        "  def init_model(self):\n",
        "    model = Sequential()\n",
        "    model.add(Dense(10, input_dim=8))\n",
        "    model.add(Activation('relu'))\n",
        "\n",
        "    model.add(Dense(1))\n",
        "    model.add(Activation('sigmoid'))\n",
        "    model.compile(optimizer='rmsprop', loss='binary_crossentropy', metrics=['accuracy'])\n",
        "    self.model = model\n",
        "    return model\n",
        "  \n",
        "  def run_network(self, epochs=20, batch=1):\n",
        "    try:\n",
        "      if self.model is None:\n",
        "            self.model = init_model()\n",
        "      history = LossHistory()\n",
        "      history = self.model.fit( \n",
        "                                self.X_train, self.y_train,\n",
        "                                epochs=epochs,batch_size=batch,\n",
        "                                callbacks=[history],\n",
        "                                verbose=1\n",
        "                               )\n",
        "      return history.history\n",
        "\n",
        "    except KeyboardInterrupt:\n",
        "        print (' KeyboardInterrupt')\n",
        "        return model, history.losses"
      ],
      "execution_count": 0,
      "outputs": []
    },
    {
      "cell_type": "code",
      "metadata": {
        "id": "UOdnLX2k2PM-",
        "colab_type": "code",
        "outputId": "9404ddc1-aa26-48b1-b41d-cb7e80b254b8",
        "colab": {
          "base_uri": "https://localhost:8080/",
          "height": 408
        }
      },
      "source": [
        "import numpy as np\n",
        "from matplotlib import pyplot as plt\n",
        "\n",
        "pima = np.loadtxt('./pima-indians-diabetes.data',delimiter=',')\n",
        "\n",
        "# Various preprocessing steps\n",
        "pima[np.where(pima[:,0]>8),0] = 8\n",
        "\n",
        "pima[np.where(pima[:,7]<=30),7] = 1\n",
        "pima[np.where((pima[:,7]>30) & (pima[:,7]<=40)),7] = 2\n",
        "pima[np.where((pima[:,7]>40) & (pima[:,7]<=50)),7] = 3\n",
        "pima[np.where((pima[:,7]>50) & (pima[:,7]<=60)),7] = 4\n",
        "pima[np.where(pima[:,7]>60),7] = 5\n",
        "\n",
        "pima[:,:8] = pima[:,:8]-pima[:,:8].mean(axis=0)\n",
        "pima[:,:8] = pima[:,:8]/pima[:,:8].var(axis=0)\n",
        "\n",
        "trainin = pima[::2,:8]\n",
        "testin = pima[1::2,:8]\n",
        "traintgt = pima[::2,8:9]\n",
        "testtgt = pima[1::2,8:9]\n",
        "print(trainin.shape)\n",
        "print(testin.shape)\n",
        "print(traintgt.shape)\n",
        "print(testtgt.shape)\n",
        "\n",
        "pima_solution = Solution(trainin,traintgt,testin,testtgt)\n",
        "\n",
        "pima_solution.init_model()\n",
        "import time\n",
        "start_time = time.time()\n",
        "history = pima_solution.run_network(epochs=200, batch=1)\n",
        "print(\"--- %s seconds ---\" % (time.time() - start_time))\n",
        "#print(losses)\n",
        "plot_losses(history)\n"
      ],
      "execution_count": 0,
      "outputs": [
        {
          "output_type": "error",
          "ename": "OSError",
          "evalue": "ignored",
          "traceback": [
            "\u001b[0;31m---------------------------------------------------------------------------\u001b[0m",
            "\u001b[0;31mOSError\u001b[0m                                   Traceback (most recent call last)",
            "\u001b[0;32m<ipython-input-14-4900a8cd6114>\u001b[0m in \u001b[0;36m<module>\u001b[0;34m()\u001b[0m\n\u001b[1;32m      2\u001b[0m \u001b[0;32mfrom\u001b[0m \u001b[0mmatplotlib\u001b[0m \u001b[0;32mimport\u001b[0m \u001b[0mpyplot\u001b[0m \u001b[0;32mas\u001b[0m \u001b[0mplt\u001b[0m\u001b[0;34m\u001b[0m\u001b[0;34m\u001b[0m\u001b[0m\n\u001b[1;32m      3\u001b[0m \u001b[0;34m\u001b[0m\u001b[0m\n\u001b[0;32m----> 4\u001b[0;31m \u001b[0mpima\u001b[0m \u001b[0;34m=\u001b[0m \u001b[0mnp\u001b[0m\u001b[0;34m.\u001b[0m\u001b[0mloadtxt\u001b[0m\u001b[0;34m(\u001b[0m\u001b[0;34m'./pima-indians-diabetes.data'\u001b[0m\u001b[0;34m,\u001b[0m\u001b[0mdelimiter\u001b[0m\u001b[0;34m=\u001b[0m\u001b[0;34m','\u001b[0m\u001b[0;34m)\u001b[0m\u001b[0;34m\u001b[0m\u001b[0;34m\u001b[0m\u001b[0m\n\u001b[0m\u001b[1;32m      5\u001b[0m \u001b[0;34m\u001b[0m\u001b[0m\n\u001b[1;32m      6\u001b[0m \u001b[0;31m# Various preprocessing steps\u001b[0m\u001b[0;34m\u001b[0m\u001b[0;34m\u001b[0m\u001b[0;34m\u001b[0m\u001b[0m\n",
            "\u001b[0;32m/usr/local/lib/python3.6/dist-packages/numpy/lib/npyio.py\u001b[0m in \u001b[0;36mloadtxt\u001b[0;34m(fname, dtype, comments, delimiter, converters, skiprows, usecols, unpack, ndmin, encoding, max_rows)\u001b[0m\n\u001b[1;32m    979\u001b[0m             \u001b[0mfname\u001b[0m \u001b[0;34m=\u001b[0m \u001b[0mos_fspath\u001b[0m\u001b[0;34m(\u001b[0m\u001b[0mfname\u001b[0m\u001b[0;34m)\u001b[0m\u001b[0;34m\u001b[0m\u001b[0;34m\u001b[0m\u001b[0m\n\u001b[1;32m    980\u001b[0m         \u001b[0;32mif\u001b[0m \u001b[0m_is_string_like\u001b[0m\u001b[0;34m(\u001b[0m\u001b[0mfname\u001b[0m\u001b[0;34m)\u001b[0m\u001b[0;34m:\u001b[0m\u001b[0;34m\u001b[0m\u001b[0;34m\u001b[0m\u001b[0m\n\u001b[0;32m--> 981\u001b[0;31m             \u001b[0mfh\u001b[0m \u001b[0;34m=\u001b[0m \u001b[0mnp\u001b[0m\u001b[0;34m.\u001b[0m\u001b[0mlib\u001b[0m\u001b[0;34m.\u001b[0m\u001b[0m_datasource\u001b[0m\u001b[0;34m.\u001b[0m\u001b[0mopen\u001b[0m\u001b[0;34m(\u001b[0m\u001b[0mfname\u001b[0m\u001b[0;34m,\u001b[0m \u001b[0;34m'rt'\u001b[0m\u001b[0;34m,\u001b[0m \u001b[0mencoding\u001b[0m\u001b[0;34m=\u001b[0m\u001b[0mencoding\u001b[0m\u001b[0;34m)\u001b[0m\u001b[0;34m\u001b[0m\u001b[0;34m\u001b[0m\u001b[0m\n\u001b[0m\u001b[1;32m    982\u001b[0m             \u001b[0mfencoding\u001b[0m \u001b[0;34m=\u001b[0m \u001b[0mgetattr\u001b[0m\u001b[0;34m(\u001b[0m\u001b[0mfh\u001b[0m\u001b[0;34m,\u001b[0m \u001b[0;34m'encoding'\u001b[0m\u001b[0;34m,\u001b[0m \u001b[0;34m'latin1'\u001b[0m\u001b[0;34m)\u001b[0m\u001b[0;34m\u001b[0m\u001b[0;34m\u001b[0m\u001b[0m\n\u001b[1;32m    983\u001b[0m             \u001b[0mfh\u001b[0m \u001b[0;34m=\u001b[0m \u001b[0miter\u001b[0m\u001b[0;34m(\u001b[0m\u001b[0mfh\u001b[0m\u001b[0;34m)\u001b[0m\u001b[0;34m\u001b[0m\u001b[0;34m\u001b[0m\u001b[0m\n",
            "\u001b[0;32m/usr/local/lib/python3.6/dist-packages/numpy/lib/_datasource.py\u001b[0m in \u001b[0;36mopen\u001b[0;34m(path, mode, destpath, encoding, newline)\u001b[0m\n\u001b[1;32m    267\u001b[0m \u001b[0;34m\u001b[0m\u001b[0m\n\u001b[1;32m    268\u001b[0m     \u001b[0mds\u001b[0m \u001b[0;34m=\u001b[0m \u001b[0mDataSource\u001b[0m\u001b[0;34m(\u001b[0m\u001b[0mdestpath\u001b[0m\u001b[0;34m)\u001b[0m\u001b[0;34m\u001b[0m\u001b[0;34m\u001b[0m\u001b[0m\n\u001b[0;32m--> 269\u001b[0;31m     \u001b[0;32mreturn\u001b[0m \u001b[0mds\u001b[0m\u001b[0;34m.\u001b[0m\u001b[0mopen\u001b[0m\u001b[0;34m(\u001b[0m\u001b[0mpath\u001b[0m\u001b[0;34m,\u001b[0m \u001b[0mmode\u001b[0m\u001b[0;34m,\u001b[0m \u001b[0mencoding\u001b[0m\u001b[0;34m=\u001b[0m\u001b[0mencoding\u001b[0m\u001b[0;34m,\u001b[0m \u001b[0mnewline\u001b[0m\u001b[0;34m=\u001b[0m\u001b[0mnewline\u001b[0m\u001b[0;34m)\u001b[0m\u001b[0;34m\u001b[0m\u001b[0;34m\u001b[0m\u001b[0m\n\u001b[0m\u001b[1;32m    270\u001b[0m \u001b[0;34m\u001b[0m\u001b[0m\n\u001b[1;32m    271\u001b[0m \u001b[0;34m\u001b[0m\u001b[0m\n",
            "\u001b[0;32m/usr/local/lib/python3.6/dist-packages/numpy/lib/_datasource.py\u001b[0m in \u001b[0;36mopen\u001b[0;34m(self, path, mode, encoding, newline)\u001b[0m\n\u001b[1;32m    621\u001b[0m                                       encoding=encoding, newline=newline)\n\u001b[1;32m    622\u001b[0m         \u001b[0;32melse\u001b[0m\u001b[0;34m:\u001b[0m\u001b[0;34m\u001b[0m\u001b[0;34m\u001b[0m\u001b[0m\n\u001b[0;32m--> 623\u001b[0;31m             \u001b[0;32mraise\u001b[0m \u001b[0mIOError\u001b[0m\u001b[0;34m(\u001b[0m\u001b[0;34m\"%s not found.\"\u001b[0m \u001b[0;34m%\u001b[0m \u001b[0mpath\u001b[0m\u001b[0;34m)\u001b[0m\u001b[0;34m\u001b[0m\u001b[0;34m\u001b[0m\u001b[0m\n\u001b[0m\u001b[1;32m    624\u001b[0m \u001b[0;34m\u001b[0m\u001b[0m\n\u001b[1;32m    625\u001b[0m \u001b[0;34m\u001b[0m\u001b[0m\n",
            "\u001b[0;31mOSError\u001b[0m: ./pima-indians-diabetes.data not found."
          ]
        }
      ]
    },
    {
      "cell_type": "markdown",
      "metadata": {
        "id": "kEsyoR_8g0tR",
        "colab_type": "text"
      },
      "source": [
        "3. Run the pcn.py to the learning OR mapping problem (as shown in the following picture), choose the parameters (e.g. epochs) to find the best result you can.  \n",
        "![](https://i.imgur.com/2NOHAdF.png)"
      ]
    },
    {
      "cell_type": "code",
      "metadata": {
        "id": "dvzI8endg0Hf",
        "colab_type": "code",
        "outputId": "514e7be0-20c5-42b2-97fc-6f45db6231a9",
        "colab": {
          "base_uri": "https://localhost:8080/",
          "height": 469
        }
      },
      "source": [
        "import pcn\n",
        "import numpy as np\n",
        "data = np.array([[0,0,0,0],[0,1,0,1],[1,0,1,0],[1,1,1,1]])\n",
        "X_train = data[:,0:2]\n",
        "y_train = data[:,2:]\n",
        "p = pcn.pcn(X_train,y_train)\n",
        "p.pcntrain(X_train,y_train,0.1,7) # inputs,targets,eta,nIterations\n",
        "p.confmat(X_train,y_train) #Confusion matrix 混淆矩陣\n",
        "p.plotErr(1)"
      ],
      "execution_count": 79,
      "outputs": [
        {
          "output_type": "stream",
          "text": [
            "Error: 3\n",
            "Error: 4\n",
            "Error: 4\n",
            "Error: 1\n",
            "Error: 0\n",
            "Error: 0\n",
            "Error: 0\n",
            "Confusion matrix\n",
            "[[3. 0.]\n",
            " [0. 1.]]\n",
            "acc\n",
            "1.0\n"
          ],
          "name": "stdout"
        },
        {
          "output_type": "display_data",
          "data": {
            "image/png": "[encoded data removed]",
            "text/plain": [
              "<Figure size 432x288 with 1 Axes>"
            ]
          },
          "metadata": {
            "tags": []
          }
        }
      ]
    },
    {
      "cell_type": "markdown",
      "metadata": {
        "id": "GLXltS1QjGZ7",
        "colab_type": "text"
      },
      "source": [
        "3. Run the pcn.py to the learning OR mapping problem (as shown in the following picture), choose the parameters (e.g. epochs) to find the best result you can.  \n",
        " \n",
        "x1  x2  Output\n",
        "\n",
        "0    0     0\n",
        "\n",
        "0    1     1\n",
        "\n",
        "1     0    1\n",
        "\n",
        "1     1     1\n",
        "\n"
      ]
    },
    {
      "cell_type": "code",
      "metadata": {
        "id": "v0sXIe6j1XBT",
        "colab_type": "code",
        "outputId": "c17b9d32-f2df-4ed0-94e5-e8c6af308567",
        "colab": {
          "base_uri": "https://localhost:8080/",
          "height": 469
        }
      },
      "source": [
        "import pcn\n",
        "import numpy as np\n",
        "data = np.array([[0,0,0],[0,1,1],[1,0,1],[1,1,1]])\n",
        "X_train = data[:,0:2]\n",
        "y_train = data[:,2:]\n",
        "p = pcn.pcn(X_train,y_train)\n",
        "p.pcntrain(X_train,y_train,0.1,7) # inputs,targets,eta,nIterations\n",
        "p.confmat(X_train,y_train) #Confusion matrix 混淆矩陣\n",
        "p.plotErr(1)"
      ],
      "execution_count": 80,
      "outputs": [
        {
          "output_type": "stream",
          "text": [
            "Error: 3\n",
            "Error: 1\n",
            "Error: 1\n",
            "Error: 1\n",
            "Error: 0\n",
            "Error: 0\n",
            "Error: 0\n",
            "Confusion matrix\n",
            "[[1. 0.]\n",
            " [0. 3.]]\n",
            "acc\n",
            "1.0\n"
          ],
          "name": "stdout"
        },
        {
          "output_type": "display_data",
          "data": {
            "image/png": "[encoded data removed]",
            "text/plain": [
              "<Figure size 432x288 with 1 Axes>"
            ]
          },
          "metadata": {
            "tags": []
          }
        }
      ]
    },
    {
      "cell_type": "markdown",
      "metadata": {
        "id": "0lDQT7wAkB5U",
        "colab_type": "text"
      },
      "source": [
        "4. Run the pcn.py to the learning XOR mapping problem (as shown in the following picture), choose the parameters (e.g. epochs) to find the best result you can.  \n",
        "\n",
        "x1  x2  Output\n",
        "\n",
        "0    0     0\n",
        "\n",
        "0    1     1\n",
        "\n",
        "1     0    1\n",
        "\n",
        "1     1     0\n",
        "\n"
      ]
    },
    {
      "cell_type": "code",
      "metadata": {
        "id": "HhoHkriGAkcb",
        "colab_type": "code",
        "colab": {
          "base_uri": "https://localhost:8080/",
          "height": 1000
        },
        "outputId": "f8ca2c22-b977-46ba-da6f-268c19c7f04c"
      },
      "source": [
        "import pcn\n",
        "import numpy as np\n",
        "data = np.array([[0,0,0],[0,1,1],[1,0,1],[1,1,0]])\n",
        "X_train = data[:,0:2]\n",
        "y_train = data[:,2:]\n",
        "p = pcn.pcn(X_train,y_train)\n",
        "p.pcntrain(X_train,y_train,.1,100) # inputs,targets,eta,nIterations\n",
        "p.confmat(X_train,y_train) #Confusion matrix 混淆矩陣\n",
        "p.plotErr(1)"
      ],
      "execution_count": 96,
      "outputs": [
        {
          "output_type": "stream",
          "text": [
            "Error: 1\n",
            "Error: 2\n",
            "Error: 2\n",
            "Error: 2\n",
            "Error: 2\n",
            "Error: 2\n",
            "Error: 2\n",
            "Error: 2\n",
            "Error: 2\n",
            "Error: 2\n",
            "Error: 2\n",
            "Error: 2\n",
            "Error: 2\n",
            "Error: 2\n",
            "Error: 2\n",
            "Error: 2\n",
            "Error: 2\n",
            "Error: 2\n",
            "Error: 2\n",
            "Error: 2\n",
            "Error: 2\n",
            "Error: 2\n",
            "Error: 2\n",
            "Error: 2\n",
            "Error: 2\n",
            "Error: 2\n",
            "Error: 2\n",
            "Error: 2\n",
            "Error: 2\n",
            "Error: 2\n",
            "Error: 2\n",
            "Error: 2\n",
            "Error: 2\n",
            "Error: 2\n",
            "Error: 2\n",
            "Error: 2\n",
            "Error: 2\n",
            "Error: 2\n",
            "Error: 2\n",
            "Error: 2\n",
            "Error: 2\n",
            "Error: 2\n",
            "Error: 2\n",
            "Error: 2\n",
            "Error: 2\n",
            "Error: 2\n",
            "Error: 2\n",
            "Error: 2\n",
            "Error: 2\n",
            "Error: 2\n",
            "Error: 2\n",
            "Error: 2\n",
            "Error: 2\n",
            "Error: 2\n",
            "Error: 2\n",
            "Error: 2\n",
            "Error: 2\n",
            "Error: 2\n",
            "Error: 2\n",
            "Error: 2\n",
            "Error: 2\n",
            "Error: 2\n",
            "Error: 2\n",
            "Error: 2\n",
            "Error: 2\n",
            "Error: 2\n",
            "Error: 2\n",
            "Error: 2\n",
            "Error: 2\n",
            "Error: 2\n",
            "Error: 2\n",
            "Error: 2\n",
            "Error: 2\n",
            "Error: 2\n",
            "Error: 2\n",
            "Error: 2\n",
            "Error: 2\n",
            "Error: 2\n",
            "Error: 2\n",
            "Error: 2\n",
            "Error: 2\n",
            "Error: 2\n",
            "Error: 2\n",
            "Error: 2\n",
            "Error: 2\n",
            "Error: 2\n",
            "Error: 2\n",
            "Error: 2\n",
            "Error: 2\n",
            "Error: 2\n",
            "Error: 2\n",
            "Error: 2\n",
            "Error: 2\n",
            "Error: 2\n",
            "Error: 2\n",
            "Error: 2\n",
            "Error: 2\n",
            "Error: 2\n",
            "Error: 2\n",
            "Error: 2\n",
            "Confusion matrix\n",
            "[[2. 2.]\n",
            " [0. 0.]]\n",
            "acc\n",
            "0.5\n"
          ],
          "name": "stdout"
        },
        {
          "output_type": "display_data",
          "data": {
            "image/png": "[encoded data removed]",
            "text/plain": [
              "<Figure size 432x288 with 1 Axes>"
            ]
          },
          "metadata": {
            "tags": []
          }
        }
      ]
    }
  ]
}