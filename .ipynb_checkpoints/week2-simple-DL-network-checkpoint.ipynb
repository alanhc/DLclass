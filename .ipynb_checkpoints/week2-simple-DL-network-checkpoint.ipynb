{
 "cells": [
  {
   "cell_type": "code",
   "execution_count": 1,
   "metadata": {
    "colab": {
     "base_uri": "https://localhost:8080/",
     "height": 81
    },
    "colab_type": "code",
    "id": "Akj_yq0zTUza",
    "outputId": "fd933e90-ebff-4427-d647-885f1dd53c40"
   },
   "outputs": [
    {
     "name": "stderr",
     "output_type": "stream",
     "text": [
      "Using TensorFlow backend.\n"
     ]
    },
    {
     "data": {
      "text/html": [
       "<p style=\"color: red;\">\n",
       "The default version of TensorFlow in Colab will soon switch to TensorFlow 2.x.<br>\n",
       "We recommend you <a href=\"https://www.tensorflow.org/guide/migrate\" target=\"_blank\">upgrade</a> now \n",
       "or ensure your notebook will continue to use TensorFlow 1.x via the <code>%tensorflow_version 1.x</code> magic:\n",
       "<a href=\"https://colab.research.google.com/notebooks/tensorflow_version.ipynb\" target=\"_blank\">more info</a>.</p>\n"
      ],
      "text/plain": [
       "<IPython.core.display.HTML object>"
      ]
     },
     "metadata": {
      "tags": []
     },
     "output_type": "display_data"
    }
   ],
   "source": [
    "from keras.models import Sequential\n",
    "from keras.layers import Dense, Activation"
   ]
  },
  {
   "cell_type": "markdown",
   "metadata": {
    "colab_type": "text",
    "id": "uGEdTUVlWx-F"
   },
   "source": []
  },
  {
   "cell_type": "code",
   "execution_count": 0,
   "metadata": {
    "colab": {},
    "colab_type": "code",
    "id": "yXt3CwyLU1zO"
   },
   "outputs": [],
   "source": [
    "model = Sequential([\n",
    "  Dense(32, input_shape=(784,)),\n",
    "  Activation('relu'),\n",
    "  Dense(10),\n",
    "  Activation('softmax'),\n",
    "])"
   ]
  },
  {
   "cell_type": "code",
   "execution_count": 0,
   "metadata": {
    "colab": {},
    "colab_type": "code",
    "id": "yLiJo3SuWMCj"
   },
   "outputs": [],
   "source": [
    "model2 = Sequential()\n",
    "model2.add(Dense(500, input_dim=784))\n",
    "model2.add(Activation('relu')) \n",
    "model2.add(Dense(300))\n",
    "model2.add(Activation('softmax'))\n",
    "\n",
    "\n",
    "    "
   ]
  },
  {
   "cell_type": "markdown",
   "metadata": {
    "colab_type": "text",
    "id": "XdJaos9WW9Ft"
   },
   "source": [
    "# COMPILE"
   ]
  },
  {
   "cell_type": "code",
   "execution_count": 0,
   "metadata": {
    "colab": {
     "base_uri": "https://localhost:8080/",
     "height": 107
    },
    "colab_type": "code",
    "id": "AUDi5oBFWo8W",
    "outputId": "c1651366-8d77-417a-825e-bea3ad0ac757"
   },
   "outputs": [
    {
     "name": "stdout",
     "output_type": "stream",
     "text": [
      "WARNING:tensorflow:From /usr/local/lib/python3.6/dist-packages/keras/optimizers.py:793: The name tf.train.Optimizer is deprecated. Please use tf.compat.v1.train.Optimizer instead.\n",
      "\n",
      "WARNING:tensorflow:From /usr/local/lib/python3.6/dist-packages/keras/backend/tensorflow_backend.py:3576: The name tf.log is deprecated. Please use tf.math.log instead.\n",
      "\n"
     ]
    }
   ],
   "source": [
    "model.compile(optimizer='rmsprop', loss='categorical_crossentropy', metrics=['accuracy'])\n",
    "\n"
   ]
  },
  {
   "cell_type": "code",
   "execution_count": 0,
   "metadata": {
    "colab": {
     "base_uri": "https://localhost:8080/",
     "height": 52
    },
    "colab_type": "code",
    "id": "4CEeSdnLdzzt",
    "outputId": "b0235885-5c83-4f1a-b23a-4fdb7628dcc2"
   },
   "outputs": [
    {
     "name": "stdout",
     "output_type": "stream",
     "text": [
      "Loading data...\n",
      "Data loaded.\n"
     ]
    }
   ],
   "source": [
    "from keras.datasets import mnist\n",
    "from keras.utils import np_utils\n",
    "import numpy as np\n",
    "def load_data():\n",
    "    print ('Loading data...')\n",
    "    (X_train, y_train), (X_test, y_test) = mnist.load_data()\n",
    "\n",
    "    X_train = X_train.astype('float32')\n",
    "    X_test = X_test.astype('float32')\n",
    "\n",
    "    X_train /= 255\n",
    "    X_test /= 255\n",
    "\n",
    "    y_train = np_utils.to_categorical(y_train, 10)\n",
    "    y_test = np_utils.to_categorical(y_test, 10)\n",
    "\n",
    "    X_train = np.reshape(X_train, (60000, 784))\n",
    "    X_test = np.reshape(X_test, (10000, 784))\n",
    "\n",
    "    print ('Data loaded.')\n",
    "    return [X_train, X_test, y_train, y_test]\n",
    "X_train, X_test, y_train, y_test = load_data()\n"
   ]
  },
  {
   "cell_type": "code",
   "execution_count": 0,
   "metadata": {
    "colab": {
     "base_uri": "https://localhost:8080/",
     "height": 758
    },
    "colab_type": "code",
    "id": "Mw7ecByKe7DQ",
    "outputId": "7fed4948-595a-442b-a1e0-3c36db00bb3c"
   },
   "outputs": [
    {
     "name": "stdout",
     "output_type": "stream",
     "text": [
      "WARNING:tensorflow:From /usr/local/lib/python3.6/dist-packages/tensorflow_core/python/ops/math_grad.py:1424: where (from tensorflow.python.ops.array_ops) is deprecated and will be removed in a future version.\n",
      "Instructions for updating:\n",
      "Use tf.where in 2.0, which has the same broadcast rule as np.where\n",
      "WARNING:tensorflow:From /usr/local/lib/python3.6/dist-packages/keras/backend/tensorflow_backend.py:1033: The name tf.assign_add is deprecated. Please use tf.compat.v1.assign_add instead.\n",
      "\n",
      "WARNING:tensorflow:From /usr/local/lib/python3.6/dist-packages/keras/backend/tensorflow_backend.py:1020: The name tf.assign is deprecated. Please use tf.compat.v1.assign instead.\n",
      "\n",
      "WARNING:tensorflow:From /usr/local/lib/python3.6/dist-packages/keras/backend/tensorflow_backend.py:3005: The name tf.Session is deprecated. Please use tf.compat.v1.Session instead.\n",
      "\n",
      "Train on 60000 samples, validate on 10000 samples\n",
      "Epoch 1/10\n",
      "WARNING:tensorflow:From /usr/local/lib/python3.6/dist-packages/keras/backend/tensorflow_backend.py:190: The name tf.get_default_session is deprecated. Please use tf.compat.v1.get_default_session instead.\n",
      "\n",
      "WARNING:tensorflow:From /usr/local/lib/python3.6/dist-packages/keras/backend/tensorflow_backend.py:197: The name tf.ConfigProto is deprecated. Please use tf.compat.v1.ConfigProto instead.\n",
      "\n",
      "WARNING:tensorflow:From /usr/local/lib/python3.6/dist-packages/keras/backend/tensorflow_backend.py:207: The name tf.global_variables is deprecated. Please use tf.compat.v1.global_variables instead.\n",
      "\n",
      "WARNING:tensorflow:From /usr/local/lib/python3.6/dist-packages/keras/backend/tensorflow_backend.py:216: The name tf.is_variable_initialized is deprecated. Please use tf.compat.v1.is_variable_initialized instead.\n",
      "\n",
      "WARNING:tensorflow:From /usr/local/lib/python3.6/dist-packages/keras/backend/tensorflow_backend.py:223: The name tf.variables_initializer is deprecated. Please use tf.compat.v1.variables_initializer instead.\n",
      "\n",
      " - 15s - loss: 0.3457 - acc: 0.9037 - val_loss: 0.2207 - val_acc: 0.9344\n",
      "Epoch 2/10\n",
      " - 5s - loss: 0.2014 - acc: 0.9416 - val_loss: 0.1784 - val_acc: 0.9455\n",
      "Epoch 3/10\n",
      " - 5s - loss: 0.1655 - acc: 0.9527 - val_loss: 0.1479 - val_acc: 0.9581\n",
      "Epoch 4/10\n",
      " - 5s - loss: 0.1435 - acc: 0.9594 - val_loss: 0.1445 - val_acc: 0.9573\n",
      "Epoch 5/10\n",
      " - 5s - loss: 0.1293 - acc: 0.9638 - val_loss: 0.1449 - val_acc: 0.9586\n",
      "Epoch 6/10\n",
      " - 5s - loss: 0.1189 - acc: 0.9663 - val_loss: 0.1307 - val_acc: 0.9651\n",
      "Epoch 7/10\n",
      " - 6s - loss: 0.1113 - acc: 0.9680 - val_loss: 0.1371 - val_acc: 0.9635\n",
      "Epoch 8/10\n",
      " - 5s - loss: 0.1034 - acc: 0.9708 - val_loss: 0.1380 - val_acc: 0.9634\n",
      "Epoch 9/10\n",
      " - 6s - loss: 0.0993 - acc: 0.9723 - val_loss: 0.1331 - val_acc: 0.9645\n",
      "Epoch 10/10\n",
      " - 6s - loss: 0.0935 - acc: 0.9731 - val_loss: 0.1295 - val_acc: 0.9654\n"
     ]
    },
    {
     "data": {
      "text/plain": [
       "<keras.callbacks.History at 0x7fb5a51efb38>"
      ]
     },
     "execution_count": 21,
     "metadata": {
      "tags": []
     },
     "output_type": "execute_result"
    }
   ],
   "source": [
    "import keras.callbacks as cb\n",
    "class LossHistory(cb.Callback):\n",
    "    def on_train_begin(self, logs={}):\n",
    "        self.losses = []\n",
    "\n",
    "    def on_batch_end(self, batch, logs={}):\n",
    "        batch_loss = logs.get('loss')\n",
    "        self.losses.append(batch_loss)\n",
    "\n",
    "\n",
    "epochs=10\n",
    "batch=32\n",
    "history = LossHistory()\n",
    "model.fit(X_train, y_train, epochs=epochs, batch_size=batch,\n",
    "                    callbacks=[history],\n",
    "                    validation_data=(X_test, y_test), verbose=2)"
   ]
  },
  {
   "cell_type": "code",
   "execution_count": 0,
   "metadata": {
    "colab": {
     "base_uri": "https://localhost:8080/",
     "height": 223
    },
    "colab_type": "code",
    "id": "3BB-yO_2cexg",
    "outputId": "501d3209-128a-4fbe-e459-9e100ddc7ab5"
   },
   "outputs": [
    {
     "ename": "NameError",
     "evalue": "ignored",
     "output_type": "error",
     "traceback": [
      "\u001b[0;31m---------------------------------------------------------------------------\u001b[0m",
      "\u001b[0;31mNameError\u001b[0m                                 Traceback (most recent call last)",
      "\u001b[0;32m<ipython-input-10-3fc4ef4b8fef>\u001b[0m in \u001b[0;36m<module>\u001b[0;34m()\u001b[0m\n\u001b[0;32m----> 1\u001b[0;31m \u001b[0mX_train\u001b[0m\u001b[0;34m,\u001b[0m \u001b[0mX_test\u001b[0m\u001b[0;34m,\u001b[0m \u001b[0my_train\u001b[0m\u001b[0;34m,\u001b[0m \u001b[0my_test\u001b[0m \u001b[0;34m=\u001b[0m \u001b[0mload_data\u001b[0m\u001b[0;34m(\u001b[0m\u001b[0;34m)\u001b[0m\u001b[0;34m\u001b[0m\u001b[0;34m\u001b[0m\u001b[0m\n\u001b[0m\u001b[1;32m      2\u001b[0m model.fit(X_train, y_train, epoch=epochs, batch_size=batch,\n\u001b[1;32m      3\u001b[0m                  \u001b[0mcallbacks\u001b[0m\u001b[0;34m=\u001b[0m\u001b[0;34m[\u001b[0m\u001b[0mhistory\u001b[0m\u001b[0;34m]\u001b[0m\u001b[0;34m,\u001b[0m \u001b[0;31m# 畫圖\u001b[0m\u001b[0;34m\u001b[0m\u001b[0;34m\u001b[0m\u001b[0m\n\u001b[1;32m      4\u001b[0m                  validation_data=(X_test, y_test), verbose=2)\n",
      "\u001b[0;31mNameError\u001b[0m: name 'load_data' is not defined"
     ]
    }
   ],
   "source": [
    " \n",
    "\n",
    "model.fit(X_train, y_train, epoch=epochs, batch_size=batch,\n",
    "                  callbacks=[history], # 畫圖\n",
    "                  validation_data=(X_test, y_test), verbose=2)\n"
   ]
  },
  {
   "cell_type": "markdown",
   "metadata": {
    "colab_type": "text",
    "id": "JyHBd671hHMe"
   },
   "source": [
    "老師的code"
   ]
  },
  {
   "cell_type": "code",
   "execution_count": 0,
   "metadata": {
    "colab": {
     "base_uri": "https://localhost:8080/",
     "height": 1000
    },
    "colab_type": "code",
    "id": "F3pUexqhWJeS",
    "outputId": "ca097248-b217-413d-ca3b-0cc7f76afde0"
   },
   "outputs": [
    {
     "name": "stdout",
     "output_type": "stream",
     "text": [
      "Loading data...\n",
      "Data loaded.\n",
      "Compiling Model ... \n",
      "Model compield in 0.044791221618652344 seconds\n",
      "Training model...\n",
      "Train on 60000 samples, validate on 10000 samples\n",
      "Epoch 1/50\n",
      " - 1s - loss: 0.3082 - acc: 0.9134 - val_loss: 0.1584 - val_acc: 0.9530\n",
      "Epoch 2/50\n",
      " - 1s - loss: 0.1298 - acc: 0.9623 - val_loss: 0.1043 - val_acc: 0.9671\n",
      "Epoch 3/50\n",
      " - 1s - loss: 0.0857 - acc: 0.9756 - val_loss: 0.0858 - val_acc: 0.9743\n",
      "Epoch 4/50\n",
      " - 1s - loss: 0.0626 - acc: 0.9814 - val_loss: 0.0781 - val_acc: 0.9763\n",
      "Epoch 5/50\n",
      " - 1s - loss: 0.0483 - acc: 0.9854 - val_loss: 0.0638 - val_acc: 0.9795\n",
      "Epoch 6/50\n",
      " - 1s - loss: 0.0367 - acc: 0.9895 - val_loss: 0.0667 - val_acc: 0.9798\n",
      "Epoch 7/50\n",
      " - 1s - loss: 0.0293 - acc: 0.9914 - val_loss: 0.0718 - val_acc: 0.9768\n",
      "Epoch 8/50\n",
      " - 1s - loss: 0.0229 - acc: 0.9933 - val_loss: 0.0641 - val_acc: 0.9805\n",
      "Epoch 9/50\n",
      " - 1s - loss: 0.0172 - acc: 0.9955 - val_loss: 0.0648 - val_acc: 0.9817\n",
      "Epoch 10/50\n",
      " - 1s - loss: 0.0140 - acc: 0.9965 - val_loss: 0.0852 - val_acc: 0.9752\n",
      "Epoch 11/50\n",
      " - 1s - loss: 0.0106 - acc: 0.9973 - val_loss: 0.0623 - val_acc: 0.9825\n",
      "Epoch 12/50\n",
      " - 1s - loss: 0.0090 - acc: 0.9977 - val_loss: 0.0644 - val_acc: 0.9828\n",
      "Epoch 13/50\n",
      " - 1s - loss: 0.0066 - acc: 0.9985 - val_loss: 0.0682 - val_acc: 0.9820\n",
      "Epoch 14/50\n",
      " - 1s - loss: 0.0057 - acc: 0.9985 - val_loss: 0.0670 - val_acc: 0.9827\n",
      "Epoch 15/50\n",
      " - 1s - loss: 0.0043 - acc: 0.9990 - val_loss: 0.0689 - val_acc: 0.9836\n",
      "Epoch 16/50\n",
      " - 1s - loss: 0.0033 - acc: 0.9993 - val_loss: 0.0667 - val_acc: 0.9839\n",
      "Epoch 17/50\n",
      " - 1s - loss: 0.0026 - acc: 0.9996 - val_loss: 0.0748 - val_acc: 0.9809\n",
      "Epoch 18/50\n",
      " - 1s - loss: 0.0022 - acc: 0.9996 - val_loss: 0.0705 - val_acc: 0.9823\n",
      "Epoch 19/50\n",
      " - 1s - loss: 0.0019 - acc: 0.9997 - val_loss: 0.0745 - val_acc: 0.9824\n",
      "Epoch 20/50\n",
      " - 1s - loss: 0.0016 - acc: 0.9996 - val_loss: 0.0726 - val_acc: 0.9834\n",
      "Epoch 21/50\n",
      " - 1s - loss: 0.0013 - acc: 0.9998 - val_loss: 0.0773 - val_acc: 0.9826\n",
      "Epoch 22/50\n",
      " - 1s - loss: 0.0011 - acc: 0.9999 - val_loss: 0.0786 - val_acc: 0.9827\n",
      "Epoch 23/50\n",
      " - 1s - loss: 0.0011 - acc: 0.9998 - val_loss: 0.0913 - val_acc: 0.9808\n",
      "Epoch 24/50\n",
      " - 1s - loss: 9.1100e-04 - acc: 0.9999 - val_loss: 0.0810 - val_acc: 0.9831\n",
      "Epoch 25/50\n",
      " - 1s - loss: 7.0767e-04 - acc: 0.9999 - val_loss: 0.0822 - val_acc: 0.9827\n",
      "Epoch 26/50\n",
      " - 1s - loss: 6.5006e-04 - acc: 0.9999 - val_loss: 0.0873 - val_acc: 0.9828\n",
      "Epoch 27/50\n",
      " - 1s - loss: 5.6581e-04 - acc: 0.9999 - val_loss: 0.0956 - val_acc: 0.9808\n",
      "Epoch 28/50\n",
      " - 1s - loss: 5.1220e-04 - acc: 1.0000 - val_loss: 0.0888 - val_acc: 0.9836\n",
      "Epoch 29/50\n",
      " - 1s - loss: 4.9680e-04 - acc: 1.0000 - val_loss: 0.0919 - val_acc: 0.9828\n",
      "Epoch 30/50\n",
      " - 1s - loss: 3.9340e-04 - acc: 1.0000 - val_loss: 0.0982 - val_acc: 0.9835\n",
      "Epoch 31/50\n",
      " - 1s - loss: 4.7857e-04 - acc: 0.9999 - val_loss: 0.0886 - val_acc: 0.9840\n",
      "Epoch 32/50\n",
      " - 1s - loss: 3.6920e-04 - acc: 1.0000 - val_loss: 0.0965 - val_acc: 0.9839\n",
      "Epoch 33/50\n",
      " - 1s - loss: 4.0886e-04 - acc: 0.9999 - val_loss: 0.0927 - val_acc: 0.9842\n",
      "Epoch 34/50\n",
      " - 1s - loss: 3.2498e-04 - acc: 1.0000 - val_loss: 0.0943 - val_acc: 0.9846\n",
      "Epoch 35/50\n",
      " - 1s - loss: 3.3235e-04 - acc: 1.0000 - val_loss: 0.1077 - val_acc: 0.9823\n",
      "Epoch 36/50\n",
      " - 1s - loss: 3.3732e-04 - acc: 0.9999 - val_loss: 0.0998 - val_acc: 0.9835\n",
      "Epoch 37/50\n",
      " - 1s - loss: 3.6723e-04 - acc: 1.0000 - val_loss: 0.1008 - val_acc: 0.9838\n",
      "Epoch 38/50\n",
      " - 1s - loss: 3.0721e-04 - acc: 1.0000 - val_loss: 0.1103 - val_acc: 0.9838\n",
      "Epoch 39/50\n",
      " - 1s - loss: 3.5316e-04 - acc: 1.0000 - val_loss: 0.1032 - val_acc: 0.9843\n",
      "Epoch 40/50\n",
      " - 1s - loss: 3.7063e-04 - acc: 1.0000 - val_loss: 0.1046 - val_acc: 0.9839\n",
      "Epoch 41/50\n",
      " - 1s - loss: 3.0013e-04 - acc: 1.0000 - val_loss: 0.1081 - val_acc: 0.9836\n",
      "Epoch 42/50\n",
      " - 1s - loss: 3.0407e-04 - acc: 1.0000 - val_loss: 0.1076 - val_acc: 0.9841\n",
      "Epoch 43/50\n",
      " - 1s - loss: 3.2728e-04 - acc: 1.0000 - val_loss: 0.1091 - val_acc: 0.9833\n",
      "Epoch 44/50\n",
      " - 1s - loss: 2.9000e-04 - acc: 1.0000 - val_loss: 0.1146 - val_acc: 0.9837\n",
      "Epoch 45/50\n",
      " - 1s - loss: 2.7659e-04 - acc: 1.0000 - val_loss: 0.1129 - val_acc: 0.9830\n",
      "Epoch 46/50\n",
      " - 1s - loss: 2.7457e-04 - acc: 1.0000 - val_loss: 0.1144 - val_acc: 0.9827\n",
      "Epoch 47/50\n",
      " - 1s - loss: 2.6998e-04 - acc: 1.0000 - val_loss: 0.1157 - val_acc: 0.9838\n",
      "Epoch 48/50\n",
      " - 1s - loss: 2.6947e-04 - acc: 1.0000 - val_loss: 0.1204 - val_acc: 0.9838\n",
      "Epoch 49/50\n",
      " - 1s - loss: 2.6903e-04 - acc: 1.0000 - val_loss: 0.1139 - val_acc: 0.9847\n",
      "Epoch 50/50\n",
      " - 1s - loss: 2.6891e-04 - acc: 1.0000 - val_loss: 0.1135 - val_acc: 0.9842\n",
      "Training duration : 44.89660596847534\n",
      "10000/10000 [==============================] - 1s 68us/step\n",
      "Network's test score [loss, accuracy]: [0.11354363278061216, 0.9842]\n"
     ]
    },
    {
     "data": {
      "image/png": "[encoded data removed]",
      "text/plain": [
       "<Figure size 432x288 with 1 Axes>"
      ]
     },
     "metadata": {
      "tags": []
     },
     "output_type": "display_data"
    }
   ],
   "source": [
    "import time\n",
    "import numpy as np\n",
    "from matplotlib import pyplot as plt\n",
    "from keras.utils import np_utils\n",
    "import keras.callbacks as cb\n",
    "from keras.models import Sequential\n",
    "from keras.layers.core import Dense, Dropout, Activation\n",
    "from keras.optimizers import RMSprop\n",
    "from keras.datasets import mnist\n",
    "\n",
    "\n",
    "class LossHistory(cb.Callback):\n",
    "    def on_train_begin(self, logs={}):\n",
    "        self.losses = []\n",
    "\n",
    "    def on_batch_end(self, batch, logs={}):\n",
    "        batch_loss = logs.get('loss')\n",
    "        self.losses.append(batch_loss)\n",
    "\n",
    "\n",
    "def load_data():\n",
    "    print ('Loading data...')\n",
    "    (X_train, y_train), (X_test, y_test) = mnist.load_data()\n",
    "\n",
    "    X_train = X_train.astype('float32')\n",
    "    X_test = X_test.astype('float32')\n",
    "\n",
    "    X_train /= 255\n",
    "    X_test /= 255\n",
    "\n",
    "    y_train = np_utils.to_categorical(y_train, 10)\n",
    "    y_test = np_utils.to_categorical(y_test, 10)\n",
    "\n",
    "    X_train = np.reshape(X_train, (60000, 784))\n",
    "    X_test = np.reshape(X_test, (10000, 784))\n",
    "\n",
    "    print ('Data loaded.')\n",
    "    return [X_train, X_test, y_train, y_test]\n",
    "\n",
    "\n",
    "def init_model():\n",
    "    start_time = time.time()\n",
    "    print ('Compiling Model ... ')\n",
    "    model = Sequential()\n",
    "    model.add(Dense(500, input_dim=784)) \n",
    "    model.add(Activation('relu'))\n",
    "\n",
    "    model.add(Dense(10))\n",
    "    model.add(Activation('softmax'))\n",
    "    \n",
    "    rms = RMSprop()\n",
    "    model.compile(loss='categorical_crossentropy', optimizer=rms, metrics=['accuracy'])\n",
    "    print ('Model compield in {0} seconds'.format(time.time() - start_time))\n",
    "    return model\n",
    "\n",
    "\n",
    "def run_network(data=None, model=None, epochs=20, batch=256):\n",
    "    try:\n",
    "        start_time = time.time()\n",
    "        if data is None:\n",
    "            X_train, X_test, y_train, y_test = load_data()\n",
    "        else:\n",
    "            X_train, X_test, y_train, y_test = data\n",
    "\n",
    "        if model is None:\n",
    "            model = init_model()\n",
    "\n",
    "        history = LossHistory()\n",
    "\n",
    "        print ('Training model...')\n",
    "        model.fit(X_train, y_train, epochs=epochs, batch_size=batch,\n",
    "                    callbacks=[history],\n",
    "                    validation_data=(X_test, y_test), verbose=2)\n",
    "\n",
    "        print (\"Training duration : {0}\".format(time.time() - start_time))\n",
    "        score = model.evaluate(X_test, y_test, batch_size=16)\n",
    "\n",
    "        print (\"Network's test score [loss, accuracy]: {0}\".format(score))\n",
    "        return model, history.losses\n",
    "    except KeyboardInterrupt:\n",
    "        print (' KeyboardInterrupt')\n",
    "        return model, history.losses\n",
    "\n",
    "\n",
    "def plot_losses(losses):\n",
    "    fig = plt.figure()\n",
    "    ax = fig.add_subplot(111)\n",
    "    ax.plot(losses)\n",
    "    ax.set_title('Loss per batch')\n",
    "    fig.show()\n",
    "\n",
    "model, losses = run_network(epochs=50, batch=256)\n",
    "plot_losses(losses)\n"
   ]
  }
 ],
 "metadata": {
  "accelerator": "GPU",
  "colab": {
   "collapsed_sections": [],
   "name": "week2.ipynb",
   "provenance": []
  },
  "kernelspec": {
   "display_name": "Python 3",
   "language": "python",
   "name": "python3"
  },
  "language_info": {
   "codemirror_mode": {
    "name": "ipython",
    "version": 3
   },
   "file_extension": ".py",
   "mimetype": "text/x-python",
   "name": "python",
   "nbconvert_exporter": "python",
   "pygments_lexer": "ipython3",
   "version": "3.7.4"
  }
 },
 "nbformat": 4,
 "nbformat_minor": 1
}
